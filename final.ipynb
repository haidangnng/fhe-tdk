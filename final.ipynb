{
 "cells": [
  {
   "cell_type": "markdown",
   "id": "08e69c9e",
   "metadata": {},
   "source": [
    "### Import Library"
   ]
  },
  {
   "cell_type": "code",
   "execution_count": 1,
   "id": "a17d0c81",
   "metadata": {},
   "outputs": [],
   "source": [
    "import numpy as np\n",
    "import pandas as pd\n",
    "# import matplotlib.pyplot as plt\n",
    "# %matplotlib inline\n",
    "# import seaborn as sns\n",
    "import warnings\n",
    "warnings.filterwarnings('ignore')\n",
    "import sklearn.base as skb\n",
    "import sklearn.metrics as skm\n",
    "import sklearn.model_selection as skms\n",
    "import sklearn.preprocessing as skp\n",
    "import sklearn.utils as sku\n",
    "import sklearn.linear_model as sklm\n",
    "import sklearn.neighbors as skn\n",
    "import sklearn.ensemble as ske\n",
    "import scipy.stats as sstats\n",
    "import random\n",
    "\n",
    "seed = 24\n",
    "np.random.seed(seed)\n",
    "\n",
    "# sns.set_style('whitegrid')\n",
    "# plt.style.use('fivethirtyeight')\n",
    "# plt.rcParams['font.family'] = 'sans-serif'\n",
    "# plt.rcParams['font.serif'] = 'Ubuntu'\n",
    "# plt.rcParams['font.monospace'] = 'Ubuntu Mono'\n",
    "# plt.rcParams['font.size'] = 10\n",
    "# plt.rcParams['axes.labelsize'] = 12\n",
    "# plt.rcParams['axes.titlesize'] = 12\n",
    "# plt.rcParams['xtick.labelsize'] = 8\n",
    "# plt.rcParams['ytick.labelsize'] = 8\n",
    "# plt.rcParams['legend.fontsize'] = 12\n",
    "# plt.rcParams['figure.titlesize'] = 14\n",
    "# plt.rcParams['figure.figsize'] = (12, 8)\n",
    "\n",
    "pd.options.mode.chained_assignment = None\n",
    "pd.options.display.float_format = '{:.2f}'.format\n",
    "pd.set_option('display.max_columns', 200)\n",
    "pd.set_option('display.width', 400)\n",
    "\n",
    "from datetime import date\n",
    "\n",
    "import time"
   ]
  },
  {
   "cell_type": "markdown",
   "id": "64df7540",
   "metadata": {},
   "source": [
    "### IMPORT DATA"
   ]
  },
  {
   "cell_type": "code",
   "execution_count": 2,
   "id": "d8c6c197",
   "metadata": {},
   "outputs": [
    {
     "data": {
      "text/plain": [
       "array([0.50615058, 0.42948456, 0.50615058, ..., 3.44853945, 0.42948456,\n",
       "       1.58953064])"
      ]
     },
     "execution_count": 2,
     "metadata": {},
     "output_type": "execute_result"
    }
   ],
   "source": [
    "data_dir = './data/'\n",
    "train_file = data_dir + \"train.csv\"\n",
    "test_file = data_dir + \"test.csv\"\n",
    "\n",
    "train_df = pd.read_csv(train_file)\n",
    "test_df = pd.read_csv(test_file)\n",
    "# SET TARGET FEATURES\n",
    "target_disorder = 'Genetic Disorder'\n",
    "target_subclass = 'Disorder Subclass'\n",
    "\n",
    "# REMOVE PatientID and duplicates from train data\n",
    "train_df.drop(['Patient Id'], inplace=True, axis=1)\n",
    "train_df.drop_duplicates(inplace=True)\n",
    "\n",
    "# REMOVE INRELEVANT ATTRIBUTES\n",
    "irrelevant_cols = [\n",
    "    'Patient First Name',\n",
    "    'Family Name',\n",
    "    \"Father's name\",\n",
    "    \"Father's age\",\n",
    "    \"Mother's age\",\n",
    "    'Institute Name',\n",
    "    'Location of Institute',\n",
    "    'Status',\n",
    "    'Parental consent',\n",
    "    'Autopsy shows birth defect (if applicable)',\n",
    "    'Place of birth',\n",
    "    'No. of previous abortion',\n",
    "    \"Test 1\",\"Test 2\",\"Test 3\",\"Test 4\",\"Test 5\",\n",
    "]\n",
    "\n",
    "\n",
    "train_df.drop(irrelevant_cols, inplace=True, axis=1)\n",
    "test_df.drop(irrelevant_cols, inplace=True, axis=1)\n",
    "train_df.dropna(axis=1, how=\"all\", inplace=True)\n",
    "train_df.dropna(axis=0, how=\"all\", inplace=True)\n",
    "train_df.dropna(subset=[target_disorder, target_subclass], how='any', inplace=True)\n",
    "\n",
    "test_df.dropna(axis=1, how=\"all\", inplace=True)\n",
    "\n",
    "fill_nan_dict = {\n",
    "    'Assisted conception IVF/ART': 'Yes',\n",
    "    'H/O radiation exposure (x-ray)': '-',\n",
    "    'Respiratory Rate (breaths/min)': 'Normal (30-60)',\n",
    "    'Folic acid details (peri-conceptional)': 'Yes',\n",
    "    'H/O serious maternal illness': 'No',\n",
    "    'Birth asphyxia': 'Not available',\n",
    "    'Birth defects': 'Singular',\n",
    "    'Blood test result': 'inconclusive',\n",
    "    'H/O substance abuse': '-',\n",
    "    'White Blood cell count (thousand per microliter)': train_df['White Blood cell count (thousand per microliter)'].mean(),\n",
    "    'History of anomalies in previous pregnancies': 'No',\n",
    "    'Inherited from father': 'No',\n",
    "    'Gender': 'Ambiguous',\n",
    "    'Follow-up': 'Low',\n",
    "    'Maternal gene': 'No',\n",
    "    'Patient Age': train_df['Patient Age'].mean(),\n",
    "    'Symptom 1': train_df['Symptom 1'].mode()[0],\n",
    "    'Symptom 2': train_df['Symptom 2'].mode()[0],\n",
    "    'Symptom 3': train_df['Symptom 3'].mode()[0],\n",
    "    'Symptom 4': train_df['Symptom 4'].mode()[0],\n",
    "    'Symptom 5': train_df['Symptom 5'].mode()[0],\n",
    "    'Heart Rate (rates/min': train_df['Heart Rate (rates/min'].mode()[0]\n",
    "}\n",
    "\n",
    "for i in fill_nan_dict:\n",
    "    train_df[i].fillna(fill_nan_dict[i], inplace=True)\n",
    "    test_df[i].fillna(fill_nan_dict[i], inplace=True)\n",
    "\n",
    "#ONE HOT ENCODING\n",
    "one_hot = [\n",
    "    \"Genes in mother's side\",\n",
    "    'Inherited from father',\n",
    "    'Maternal gene',\n",
    "    'Paternal gene',\n",
    "    'Respiratory Rate (breaths/min)',\n",
    "    'Heart Rate (rates/min',\n",
    "    'Follow-up',\n",
    "    'Gender',\n",
    "    'Birth asphyxia',\n",
    "    'Folic acid details (peri-conceptional)',\n",
    "    'H/O serious maternal illness',\n",
    "    'H/O radiation exposure (x-ray)',\n",
    "    'H/O substance abuse',\n",
    "    'Assisted conception IVF/ART',\n",
    "    'History of anomalies in previous pregnancies',\n",
    "    'Birth defects',\n",
    "    'Blood test result'\n",
    "]\n",
    "\n",
    "for feat in one_hot:\n",
    "    train_dummies = pd.get_dummies(train_df[feat], drop_first=True, prefix=feat+\"_\", dtype=float)\n",
    "    train_df = pd.concat([train_df, train_dummies], axis=1)\n",
    "    train_df.drop(feat, axis=1, inplace=True)\n",
    "\n",
    "    test_dummies = pd.get_dummies(test_df[feat], drop_first=True, prefix=feat+\"_\", dtype=float)\n",
    "    test_df = pd.concat([test_df, test_dummies], axis=1)\n",
    "    test_df.drop(feat, axis=1, inplace=True)\n",
    "train_df_disorder = train_df.sample(frac=1, random_state=seed).reset_index(drop=True)\n",
    "train_df_subclass = train_df.sample(frac=1, random_state=seed).reset_index(drop=True)\n",
    "\n",
    "train_df_disorder.drop(target_subclass, inplace=True, axis=1)\n",
    "\n",
    "le = skp.LabelEncoder()\n",
    "train_df_subclass[target_disorder] = le.fit_transform(train_df_subclass[target_disorder])\n",
    "train_df_disorder_shuffle = train_df_disorder.sample(frac=1, random_state=seed).reset_index(drop=True)\n",
    "\n",
    "train_df_disorder_y = train_df_disorder_shuffle.pop(target_disorder)\n",
    "train_df_disorder_X = train_df_disorder_shuffle\n",
    "\n",
    "disorder_label = skp.LabelEncoder()\n",
    "train_df_disorder_y = disorder_label.fit_transform(train_df_disorder_y)\n",
    "\n",
    "X_disorder_train, X_disorder_test, y_disorder_train, y_disorder_test = skms.train_test_split(train_df_disorder_X, train_df_disorder_y, train_size=0.7, random_state=seed)\n",
    "train_df_subclass_shuffle = train_df_subclass.sample(frac=1, random_state=seed).reset_index(drop=True)\n",
    "\n",
    "train_df_subclass_y = train_df_subclass_shuffle.pop(target_subclass)\n",
    "train_df_subclass_X = train_df_subclass_shuffle\n",
    "\n",
    "subclass_label = skp.LabelEncoder()\n",
    "train_df_subclass_y = subclass_label.fit_transform(train_df_subclass_y)\n",
    "\n",
    "X_subclass_train, X_subclass_test, y_subclass_train, y_subclass_test = skms.train_test_split(train_df_subclass_X, train_df_subclass_y, train_size=0.7, random_state=seed)\n",
    "# FEATURE SCALING\n",
    "numerical_features = train_df.select_dtypes(include=[np.number])\n",
    "X_disorder_train.reset_index(drop=True, inplace=True)\n",
    "X_disorder_test.reset_index(drop=True, inplace=True)\n",
    "X_disorder_train.index[:5]\n",
    "\n",
    "scaler = skp.StandardScaler()\n",
    "\n",
    "X_disorder_train[numerical_features.columns] = pd.DataFrame(scaler.fit_transform(X_disorder_train[numerical_features.columns]), columns=numerical_features.columns)\n",
    "\n",
    "X_disorder_test[numerical_features.columns] = pd.DataFrame(scaler.transform(X_disorder_test[numerical_features.columns]), columns=numerical_features.columns)\n",
    "\n",
    "# view sample data\n",
    "X_disorder_train.describe()\n",
    "numerical_features = train_df.select_dtypes(include=[np.number])\n",
    "\n",
    "X_subclass_train.reset_index(drop=True, inplace=True)\n",
    "X_subclass_test.reset_index(drop=True, inplace=True)\n",
    "X_subclass_train.index[:5]\n",
    "\n",
    "scaler = skp.StandardScaler()\n",
    "\n",
    "X_subclass_train[numerical_features.columns] = pd.DataFrame(scaler.fit_transform(X_subclass_train[numerical_features.columns]), columns=numerical_features.columns)\n",
    "\n",
    "X_subclass_test[numerical_features.columns] = pd.DataFrame(scaler.transform(X_subclass_test[numerical_features.columns]), columns=numerical_features.columns)\n",
    "\n",
    "X_subclass_train.describe()\n",
    "class_weights_disorder = sku.class_weight.compute_class_weight(class_weight='balanced', classes=np.unique(y_disorder_train), y=y_disorder_train)\n",
    "class_weights_disorder = dict(enumerate(class_weights_disorder))\n",
    "sample_weights_disorder = sku.class_weight.compute_sample_weight('balanced', y_disorder_train)\n",
    "sample_weights_disorder\n",
    "class_weights_subclass = sku.class_weight.compute_class_weight(class_weight='balanced', classes=np.unique(y_subclass_train), y=y_subclass_train)\n",
    "class_weights_subclass = dict(enumerate(class_weights_subclass))\n",
    "sample_weights_subclass = sku.class_weight.compute_sample_weight('balanced', y_subclass_train)\n",
    "sample_weights_subclass"
   ]
  },
  {
   "cell_type": "markdown",
   "id": "4a87dcd6",
   "metadata": {},
   "source": [
    "### BUILDING MODEL"
   ]
  },
  {
   "cell_type": "code",
   "execution_count": 3,
   "id": "3e1ee8b3",
   "metadata": {},
   "outputs": [],
   "source": [
    "disorder_params = {\n",
    "    \"objective\" :'multi:softprob', \n",
    "    \"random_state\":seed,\n",
    "    \"scoring\":'f1', \n",
    "    \"learning_rate\":0.03,\n",
    "    \"subsample\":0.5,\n",
    "    \"n_jobs\":-1,\n",
    "    \"sample_weight\":sample_weights_disorder,\n",
    "    \"n_estimators\":100,\n",
    "    \"max_depth\" : 8\n",
    "}\n",
    "\n",
    "subclass_params = {\n",
    "    \"objective\" :'multi:softprob',\n",
    "    \"random_state\":seed,\n",
    "    \"scoring\":'f1', \n",
    "    \"learning_rate\":0.03,\n",
    "    \"subsample\":1,\n",
    "    \"n_jobs\":-1,\n",
    "    \"sample_weight\":sample_weights_subclass,\n",
    "    \"n_estimators\":100,\n",
    "    \"max_depth\" : 5\n",
    "}"
   ]
  },
  {
   "cell_type": "markdown",
   "id": "aca698eb",
   "metadata": {},
   "source": [
    "### BASE MODEL"
   ]
  },
  {
   "cell_type": "code",
   "execution_count": 4,
   "id": "ad57b9c1",
   "metadata": {},
   "outputs": [],
   "source": [
    "from xgboost import XGBClassifier"
   ]
  },
  {
   "cell_type": "code",
   "execution_count": 5,
   "id": "d96e5384",
   "metadata": {},
   "outputs": [
    {
     "name": "stdout",
     "output_type": "stream",
     "text": [
      "[20:28:59] WARNING: /Users/runner/work/xgboost/xgboost/python-package/build/temp.macosx-11.0-arm64-cpython-38/xgboost/src/learner.cc:627: \n",
      "Parameters: { \"sample_weight\", \"scoring\" } might not be used.\n",
      "\n",
      "  This could be a false alarm, with some parameters getting used by language bindings but\n",
      "  then being mistakenly passed down to XGBoost core, or some parameter actually being used\n",
      "  but getting flagged wrongly here. Please open an issue if you find any such cases.\n",
      "\n",
      "\n",
      "SKLearn XGBoost Disorder Model Accuracy 0.796785940468651\n",
      "0.5859649122807018\n"
     ]
    }
   ],
   "source": [
    "xgb_disorder_model = XGBClassifier(**disorder_params)\n",
    "xgb_disorder_model.fit(X_disorder_train, y_disorder_train)\n",
    "\n",
    "y_disorder_train_pred = xgb_disorder_model.predict(X_disorder_train)\n",
    "y_disorder_test_pred = xgb_disorder_model.predict(X_disorder_test)\n",
    "\n",
    "print(\"SKLearn XGBoost Disorder Model Accuracy\", skm.accuracy_score(y_disorder_train, y_disorder_train_pred))\n",
    "print(skm.accuracy_score(y_disorder_test, y_disorder_test_pred))\n"
   ]
  },
  {
   "cell_type": "code",
   "execution_count": 6,
   "id": "5184e908",
   "metadata": {},
   "outputs": [
    {
     "name": "stdout",
     "output_type": "stream",
     "text": [
      "[20:29:02] WARNING: /Users/runner/work/xgboost/xgboost/python-package/build/temp.macosx-11.0-arm64-cpython-38/xgboost/src/learner.cc:627: \n",
      "Parameters: { \"sample_weight\", \"scoring\" } might not be used.\n",
      "\n",
      "  This could be a false alarm, with some parameters getting used by language bindings but\n",
      "  then being mistakenly passed down to XGBoost core, or some parameter actually being used\n",
      "  but getting flagged wrongly here. Please open an issue if you find any such cases.\n",
      "\n",
      "\n",
      "SKLearn XGBoost Sublass Model Accuracy 0.7408169727675744\n",
      "0.7023084025854109\n"
     ]
    }
   ],
   "source": [
    "xgb_subclass_model = XGBClassifier(**subclass_params)\n",
    "xgb_subclass_model.fit(X_subclass_train, y_subclass_train)\n",
    "\n",
    "y_subclass_train_pred = xgb_subclass_model.predict(X_subclass_train)\n",
    "y_subclass_test_pred = xgb_subclass_model.predict(X_subclass_test)\n",
    "\n",
    "print(\"SKLearn XGBoost Sublass Model Accuracy\",skm.accuracy_score(y_subclass_train, y_subclass_train_pred))\n",
    "print(skm.accuracy_score(y_subclass_test, y_subclass_test_pred))"
   ]
  },
  {
   "cell_type": "markdown",
   "id": "674b9e77",
   "metadata": {},
   "source": [
    "### CONCRETE MODELS"
   ]
  },
  {
   "cell_type": "code",
   "execution_count": 7,
   "id": "d1fd3a0f",
   "metadata": {},
   "outputs": [],
   "source": [
    "from concrete.ml.sklearn.xgb import XGBClassifier as ConcreteXGBClassifier\n",
    "\n",
    "concrete_disorder_params = {\n",
    "    'n_bits': 4,\n",
    "    **disorder_params,\n",
    "}\n",
    "\n",
    "concrete_subclass_params = {\n",
    "    'n_bits': 4,\n",
    "    **subclass_params,\n",
    "}"
   ]
  },
  {
   "cell_type": "code",
   "execution_count": 8,
   "id": "d931937d",
   "metadata": {},
   "outputs": [
    {
     "data": {
      "text/html": [
       "<style>#sk-container-id-1 {color: black;background-color: white;}#sk-container-id-1 pre{padding: 0;}#sk-container-id-1 div.sk-toggleable {background-color: white;}#sk-container-id-1 label.sk-toggleable__label {cursor: pointer;display: block;width: 100%;margin-bottom: 0;padding: 0.3em;box-sizing: border-box;text-align: center;}#sk-container-id-1 label.sk-toggleable__label-arrow:before {content: \"▸\";float: left;margin-right: 0.25em;color: #696969;}#sk-container-id-1 label.sk-toggleable__label-arrow:hover:before {color: black;}#sk-container-id-1 div.sk-estimator:hover label.sk-toggleable__label-arrow:before {color: black;}#sk-container-id-1 div.sk-toggleable__content {max-height: 0;max-width: 0;overflow: hidden;text-align: left;background-color: #f0f8ff;}#sk-container-id-1 div.sk-toggleable__content pre {margin: 0.2em;color: black;border-radius: 0.25em;background-color: #f0f8ff;}#sk-container-id-1 input.sk-toggleable__control:checked~div.sk-toggleable__content {max-height: 200px;max-width: 100%;overflow: auto;}#sk-container-id-1 input.sk-toggleable__control:checked~label.sk-toggleable__label-arrow:before {content: \"▾\";}#sk-container-id-1 div.sk-estimator input.sk-toggleable__control:checked~label.sk-toggleable__label {background-color: #d4ebff;}#sk-container-id-1 div.sk-label input.sk-toggleable__control:checked~label.sk-toggleable__label {background-color: #d4ebff;}#sk-container-id-1 input.sk-hidden--visually {border: 0;clip: rect(1px 1px 1px 1px);clip: rect(1px, 1px, 1px, 1px);height: 1px;margin: -1px;overflow: hidden;padding: 0;position: absolute;width: 1px;}#sk-container-id-1 div.sk-estimator {font-family: monospace;background-color: #f0f8ff;border: 1px dotted black;border-radius: 0.25em;box-sizing: border-box;margin-bottom: 0.5em;}#sk-container-id-1 div.sk-estimator:hover {background-color: #d4ebff;}#sk-container-id-1 div.sk-parallel-item::after {content: \"\";width: 100%;border-bottom: 1px solid gray;flex-grow: 1;}#sk-container-id-1 div.sk-label:hover label.sk-toggleable__label {background-color: #d4ebff;}#sk-container-id-1 div.sk-serial::before {content: \"\";position: absolute;border-left: 1px solid gray;box-sizing: border-box;top: 0;bottom: 0;left: 50%;z-index: 0;}#sk-container-id-1 div.sk-serial {display: flex;flex-direction: column;align-items: center;background-color: white;padding-right: 0.2em;padding-left: 0.2em;position: relative;}#sk-container-id-1 div.sk-item {position: relative;z-index: 1;}#sk-container-id-1 div.sk-parallel {display: flex;align-items: stretch;justify-content: center;background-color: white;position: relative;}#sk-container-id-1 div.sk-item::before, #sk-container-id-1 div.sk-parallel-item::before {content: \"\";position: absolute;border-left: 1px solid gray;box-sizing: border-box;top: 0;bottom: 0;left: 50%;z-index: -1;}#sk-container-id-1 div.sk-parallel-item {display: flex;flex-direction: column;z-index: 1;position: relative;background-color: white;}#sk-container-id-1 div.sk-parallel-item:first-child::after {align-self: flex-end;width: 50%;}#sk-container-id-1 div.sk-parallel-item:last-child::after {align-self: flex-start;width: 50%;}#sk-container-id-1 div.sk-parallel-item:only-child::after {width: 0;}#sk-container-id-1 div.sk-dashed-wrapped {border: 1px dashed gray;margin: 0 0.4em 0.5em 0.4em;box-sizing: border-box;padding-bottom: 0.4em;background-color: white;}#sk-container-id-1 div.sk-label label {font-family: monospace;font-weight: bold;display: inline-block;line-height: 1.2em;}#sk-container-id-1 div.sk-label-container {text-align: center;}#sk-container-id-1 div.sk-container {/* jupyter's `normalize.less` sets `[hidden] { display: none; }` but bootstrap.min.css set `[hidden] { display: none !important; }` so we also need the `!important` here to be able to override the default hidden behavior on the sphinx rendered scikit-learn.org. See: https://github.com/scikit-learn/scikit-learn/issues/21755 */display: inline-block !important;position: relative;}#sk-container-id-1 div.sk-text-repr-fallback {display: none;}</style><div id=\"sk-container-id-1\" class=\"sk-top-container\"><div class=\"sk-text-repr-fallback\"><pre>XGBClassifier(learning_rate=0.03, max_depth=8,\n",
       "              n_bits={&#x27;op_inputs&#x27;: 4, &#x27;op_leaves&#x27;: 4}, n_estimators=100,\n",
       "              n_jobs=1, objective=&#x27;multi:softprob&#x27;, random_state=24,\n",
       "              subsample=0.5)</pre><b>In a Jupyter environment, please rerun this cell to show the HTML representation or trust the notebook. <br />On GitHub, the HTML representation is unable to render, please try loading this page with nbviewer.org.</b></div><div class=\"sk-container\" hidden><div class=\"sk-item\"><div class=\"sk-estimator sk-toggleable\"><input class=\"sk-toggleable__control sk-hidden--visually\" id=\"sk-estimator-id-1\" type=\"checkbox\" checked><label for=\"sk-estimator-id-1\" class=\"sk-toggleable__label sk-toggleable__label-arrow\">XGBClassifier</label><div class=\"sk-toggleable__content\"><pre>XGBClassifier(learning_rate=0.03, max_depth=8,\n",
       "              n_bits={&#x27;op_inputs&#x27;: 4, &#x27;op_leaves&#x27;: 4}, n_estimators=100,\n",
       "              n_jobs=1, objective=&#x27;multi:softprob&#x27;, random_state=24,\n",
       "              subsample=0.5)</pre></div></div></div></div></div>"
      ],
      "text/plain": [
       "XGBClassifier(learning_rate=0.03, max_depth=8,\n",
       "              n_bits={'op_inputs': 4, 'op_leaves': 4}, n_estimators=100,\n",
       "              n_jobs=1, objective='multi:softprob', random_state=24,\n",
       "              subsample=0.5)"
      ]
     },
     "execution_count": 8,
     "metadata": {},
     "output_type": "execute_result"
    }
   ],
   "source": [
    "\n",
    "concrete_disorder_model = ConcreteXGBClassifier(**concrete_disorder_params)\n",
    "concrete_disorder_model.fit(X_disorder_train, y_disorder_train)\n",
    "\n",
    "# y_fhe_disorder_train_pred = concrete_disorder_model.predict(X_disorder_train)\n",
    "# y_fhe_disorder_test_pred = concrete_disorder_model.predict(X_disorder_test)\n",
    "\n",
    "# print(\"ConcreteML XGBClassifier Disorder Accuracy: \",skm.accuracy_score(y_disorder_train, y_fhe_disorder_train_pred))\n",
    "\n",
    "# # print(skm.accuracy_score(y_disorder_test, y_fhe_disorder_test_pred))"
   ]
  },
  {
   "cell_type": "code",
   "execution_count": 9,
   "id": "c1a9bdf9",
   "metadata": {},
   "outputs": [
    {
     "data": {
      "text/html": [
       "<style>#sk-container-id-2 {color: black;background-color: white;}#sk-container-id-2 pre{padding: 0;}#sk-container-id-2 div.sk-toggleable {background-color: white;}#sk-container-id-2 label.sk-toggleable__label {cursor: pointer;display: block;width: 100%;margin-bottom: 0;padding: 0.3em;box-sizing: border-box;text-align: center;}#sk-container-id-2 label.sk-toggleable__label-arrow:before {content: \"▸\";float: left;margin-right: 0.25em;color: #696969;}#sk-container-id-2 label.sk-toggleable__label-arrow:hover:before {color: black;}#sk-container-id-2 div.sk-estimator:hover label.sk-toggleable__label-arrow:before {color: black;}#sk-container-id-2 div.sk-toggleable__content {max-height: 0;max-width: 0;overflow: hidden;text-align: left;background-color: #f0f8ff;}#sk-container-id-2 div.sk-toggleable__content pre {margin: 0.2em;color: black;border-radius: 0.25em;background-color: #f0f8ff;}#sk-container-id-2 input.sk-toggleable__control:checked~div.sk-toggleable__content {max-height: 200px;max-width: 100%;overflow: auto;}#sk-container-id-2 input.sk-toggleable__control:checked~label.sk-toggleable__label-arrow:before {content: \"▾\";}#sk-container-id-2 div.sk-estimator input.sk-toggleable__control:checked~label.sk-toggleable__label {background-color: #d4ebff;}#sk-container-id-2 div.sk-label input.sk-toggleable__control:checked~label.sk-toggleable__label {background-color: #d4ebff;}#sk-container-id-2 input.sk-hidden--visually {border: 0;clip: rect(1px 1px 1px 1px);clip: rect(1px, 1px, 1px, 1px);height: 1px;margin: -1px;overflow: hidden;padding: 0;position: absolute;width: 1px;}#sk-container-id-2 div.sk-estimator {font-family: monospace;background-color: #f0f8ff;border: 1px dotted black;border-radius: 0.25em;box-sizing: border-box;margin-bottom: 0.5em;}#sk-container-id-2 div.sk-estimator:hover {background-color: #d4ebff;}#sk-container-id-2 div.sk-parallel-item::after {content: \"\";width: 100%;border-bottom: 1px solid gray;flex-grow: 1;}#sk-container-id-2 div.sk-label:hover label.sk-toggleable__label {background-color: #d4ebff;}#sk-container-id-2 div.sk-serial::before {content: \"\";position: absolute;border-left: 1px solid gray;box-sizing: border-box;top: 0;bottom: 0;left: 50%;z-index: 0;}#sk-container-id-2 div.sk-serial {display: flex;flex-direction: column;align-items: center;background-color: white;padding-right: 0.2em;padding-left: 0.2em;position: relative;}#sk-container-id-2 div.sk-item {position: relative;z-index: 1;}#sk-container-id-2 div.sk-parallel {display: flex;align-items: stretch;justify-content: center;background-color: white;position: relative;}#sk-container-id-2 div.sk-item::before, #sk-container-id-2 div.sk-parallel-item::before {content: \"\";position: absolute;border-left: 1px solid gray;box-sizing: border-box;top: 0;bottom: 0;left: 50%;z-index: -1;}#sk-container-id-2 div.sk-parallel-item {display: flex;flex-direction: column;z-index: 1;position: relative;background-color: white;}#sk-container-id-2 div.sk-parallel-item:first-child::after {align-self: flex-end;width: 50%;}#sk-container-id-2 div.sk-parallel-item:last-child::after {align-self: flex-start;width: 50%;}#sk-container-id-2 div.sk-parallel-item:only-child::after {width: 0;}#sk-container-id-2 div.sk-dashed-wrapped {border: 1px dashed gray;margin: 0 0.4em 0.5em 0.4em;box-sizing: border-box;padding-bottom: 0.4em;background-color: white;}#sk-container-id-2 div.sk-label label {font-family: monospace;font-weight: bold;display: inline-block;line-height: 1.2em;}#sk-container-id-2 div.sk-label-container {text-align: center;}#sk-container-id-2 div.sk-container {/* jupyter's `normalize.less` sets `[hidden] { display: none; }` but bootstrap.min.css set `[hidden] { display: none !important; }` so we also need the `!important` here to be able to override the default hidden behavior on the sphinx rendered scikit-learn.org. See: https://github.com/scikit-learn/scikit-learn/issues/21755 */display: inline-block !important;position: relative;}#sk-container-id-2 div.sk-text-repr-fallback {display: none;}</style><div id=\"sk-container-id-2\" class=\"sk-top-container\"><div class=\"sk-text-repr-fallback\"><pre>XGBClassifier(learning_rate=0.03, max_depth=5,\n",
       "              n_bits={&#x27;op_inputs&#x27;: 4, &#x27;op_leaves&#x27;: 4}, n_estimators=100,\n",
       "              n_jobs=1, objective=&#x27;multi:softprob&#x27;, random_state=24,\n",
       "              subsample=1)</pre><b>In a Jupyter environment, please rerun this cell to show the HTML representation or trust the notebook. <br />On GitHub, the HTML representation is unable to render, please try loading this page with nbviewer.org.</b></div><div class=\"sk-container\" hidden><div class=\"sk-item\"><div class=\"sk-estimator sk-toggleable\"><input class=\"sk-toggleable__control sk-hidden--visually\" id=\"sk-estimator-id-2\" type=\"checkbox\" checked><label for=\"sk-estimator-id-2\" class=\"sk-toggleable__label sk-toggleable__label-arrow\">XGBClassifier</label><div class=\"sk-toggleable__content\"><pre>XGBClassifier(learning_rate=0.03, max_depth=5,\n",
       "              n_bits={&#x27;op_inputs&#x27;: 4, &#x27;op_leaves&#x27;: 4}, n_estimators=100,\n",
       "              n_jobs=1, objective=&#x27;multi:softprob&#x27;, random_state=24,\n",
       "              subsample=1)</pre></div></div></div></div></div>"
      ],
      "text/plain": [
       "XGBClassifier(learning_rate=0.03, max_depth=5,\n",
       "              n_bits={'op_inputs': 4, 'op_leaves': 4}, n_estimators=100,\n",
       "              n_jobs=1, objective='multi:softprob', random_state=24,\n",
       "              subsample=1)"
      ]
     },
     "execution_count": 9,
     "metadata": {},
     "output_type": "execute_result"
    }
   ],
   "source": [
    "concrete_subclass_model = ConcreteXGBClassifier(**concrete_subclass_params)\n",
    "concrete_subclass_model.fit(X_subclass_train, y_subclass_train)\n",
    "\n",
    "# y_fhe_subclass_train_pred = concrete_subclass_model.predict(X_subclass_train)\n",
    "# y_fhe_subclass_test_pred = concrete_subclass_model.predict(X_subclass_test)\n",
    "\n",
    "# print(\"ConcreteML XGBClassifier Subclass Accuracy: \", skm.accuracy_score(y_subclass_train, y_fhe_subclass_train_pred))\n",
    "# print(skm.accuracy_score(y_subclass_test, y_fhe_subclass_test_pred))"
   ]
  },
  {
   "cell_type": "markdown",
   "id": "b2780766",
   "metadata": {},
   "source": [
    "### GENERATE KEY"
   ]
  },
  {
   "cell_type": "code",
   "execution_count": 10,
   "id": "39780338",
   "metadata": {},
   "outputs": [],
   "source": [
    "from concrete.compiler import check_gpu_available\n",
    "\n",
    "use_gpu_if_available = False\n",
    "device = \"cuda\" if use_gpu_if_available and check_gpu_available() else \"cpu\"\n",
    "\n",
    "circuit_disorder = concrete_disorder_model.compile(X_disorder_train, device=device)\n",
    "circuit_disorder.client.keygen(force=False)\n",
    "\n",
    "circuit_subclass = concrete_subclass_model.compile(X_subclass_train, device=device)\n",
    "circuit_subclass.client.keygen(force=False)"
   ]
  },
  {
   "cell_type": "code",
   "execution_count": 11,
   "id": "5157ba21",
   "metadata": {},
   "outputs": [],
   "source": [
    "# circuit_disorder.client.keygen(force=False)\n",
    "# circuit_subclass.client.keygen(force=False)"
   ]
  },
  {
   "cell_type": "markdown",
   "id": "f53861b7",
   "metadata": {},
   "source": [
    "### EVALUATE MODEL"
   ]
  },
  {
   "cell_type": "code",
   "execution_count": 12,
   "id": "f15c8b9c",
   "metadata": {},
   "outputs": [
    {
     "name": "stdout",
     "output_type": "stream",
     "text": [
      "Accuracy scores:\n",
      "- Scikit-Learn for disorder (clear floating points): 58.60%\n",
      "- Concrete ML for disorder (clear quantized): 59.00%\n",
      "- Scikit-Learn for subclass (clear floating points): 70.23%\n",
      "- Concrete ML for subclass (clear quantized): 69.86%\n",
      "\n"
     ]
    }
   ],
   "source": [
    "# Compute the predictions using the Scikit-Learn model\n",
    "disorder_pred_sklearn = xgb_disorder_model.predict(X_disorder_test)\n",
    "disorder_pred_fhe = concrete_disorder_model.predict(X_disorder_test, fhe=\"simulate\")\n",
    "\n",
    "subclass_pred_sklearn = xgb_subclass_model.predict(X_subclass_test)\n",
    "subclass_pred_fhe = concrete_subclass_model.predict(X_subclass_test, fhe=\"simulate\")\n",
    "\n",
    "\n",
    "print(\"Accuracy scores:\")\n",
    "print(\n",
    "    f\"- Scikit-Learn for disorder (clear floating points): {skm.accuracy_score(y_disorder_test, disorder_pred_sklearn)*100:.2f}%\\n\"\n",
    "    f\"- Concrete ML for disorder (clear quantized): {skm.accuracy_score(y_disorder_test, disorder_pred_fhe)*100:.2f}%\\n\"\n",
    "    f\"- Scikit-Learn for subclass (clear floating points): {skm.accuracy_score(y_subclass_test, subclass_pred_sklearn)*100:.2f}%\\n\"\n",
    "    f\"- Concrete ML for subclass (clear quantized): {skm.accuracy_score(y_subclass_test, subclass_pred_fhe)*100:.2f}%\\n\"\n",
    ")"
   ]
  },
  {
   "cell_type": "code",
   "execution_count": 13,
   "id": "2fe65691",
   "metadata": {},
   "outputs": [],
   "source": [
    "# # import time\n",
    "\n",
    "# N_SAMPLE_FHE = 5\n",
    "\n",
    "# # Pick N_SAMPLE_FHE random samples from the test set\n",
    "# idx_test = np.random.choice(X_disorder_test.shape[0], N_SAMPLE_FHE, replace=False)\n",
    "# X_disorder_test_fhe = X_disorder_test.iloc[idx_test]\n",
    "# y_disorder_test_fhe = y_disorder_test[idx_test]\n",
    "\n",
    "# # Compute the predictions using the Concrete ML (quantized) model in the clear\n",
    "# y_preds_disorder_clear = concrete_disorder_model.predict(X_disorder_test_fhe)\n",
    "\n",
    "# # Compute the predictions using the Concrete ML model in FHE\n",
    "# time_begin = time.time()\n",
    "# y_preds_disorder_fhe = concrete_disorder_model.predict(X_disorder_test_fhe, fhe=\"execute\")\n",
    "# print(f\"FHE execution time (Genetic Disorder): {(time.time() - time_begin) / len(X_disorder_test_fhe):.2f} seconds per sample\")\n",
    "# # Compare the clear quantized inference vs FHE inference\n",
    "# print(\n",
    "#     f\"{(y_preds_disorder_fhe == y_preds_disorder_clear).sum()}/{N_SAMPLE_FHE} \"\n",
    "#     \"Genetic Disorder: FHE predictions match the clear quantized predictions\"\n",
    "# )"
   ]
  },
  {
   "cell_type": "code",
   "execution_count": 14,
   "id": "070c7f99",
   "metadata": {},
   "outputs": [],
   "source": [
    "# # Pick N_SAMPLE_FHE random samples from the test set\n",
    "# idx_test = np.random.choice(X_subclass_test.shape[0], N_SAMPLE_FHE, replace=False)\n",
    "# X_subclass_test_fhe = X_subclass_test.iloc[idx_test]\n",
    "# y_subclass_test_fhe = y_subclass_test[idx_test]\n",
    "\n",
    "# # Compute the predictions using the Concrete ML (quantized) model in the clear\n",
    "# y_preds_subclass_clear = concrete_subclass_model.predict(X_subclass_test_fhe)\n",
    "\n",
    "# # Compute the predictions using the Concrete ML model in FHE\n",
    "# time_begin = time.time()\n",
    "# y_preds_subclass_fhe = concrete_subclass_model.predict(X_subclass_test_fhe, fhe=\"execute\")\n",
    "# print(f\"FHE execution time: {(time.time() - time_begin) / len(X_subclass_test_fhe):.2f} seconds per sample\")\n",
    "# # Compare the clear quantized inference vs FHE inference\n",
    "# print(\n",
    "#     f\"{(y_preds_subclass_fhe == y_preds_subclass_clear).sum()}/{N_SAMPLE_FHE} \"\n",
    "#     \"Disorder Subclass: FHE predictions match the clear quantized predictions\"\n",
    "# )"
   ]
  },
  {
   "cell_type": "markdown",
   "id": "796b62db",
   "metadata": {},
   "source": [
    "### DEPLOYMENT"
   ]
  },
  {
   "cell_type": "code",
   "execution_count": 16,
   "id": "43214c0c",
   "metadata": {},
   "outputs": [
    {
     "name": "stderr",
     "output_type": "stream",
     "text": [
      "KeySetCache: miss, regenerating ./tmp/disorder/keys_client/15751302961461149113\n"
     ]
    }
   ],
   "source": [
    "from concrete.ml.deployment import FHEModelClient, FHEModelServer, FHEModelDev\n",
    "\n",
    "disorder_fhe_dir = './tmp/disorder/fhe_client_server_files/'\n",
    "disorder_key_dir = \"./tmp/disorder/keys_client\"\n",
    "\n",
    "disorder_dev = FHEModelDev(path_dir=disorder_fhe_dir, model=concrete_disorder_model)\n",
    "disorder_dev.save()\n",
    "\n",
    "disorder_client = FHEModelClient(path_dir=disorder_fhe_dir, key_dir=disorder_key_dir)\n",
    "disorder_serialized_evaluation_keys = disorder_client.get_serialized_evaluation_keys()\n",
    "\n",
    "# # Setup the server\n",
    "disorder_server = FHEModelServer(path_dir=disorder_fhe_dir)\n",
    "disorder_server.load()\n"
   ]
  },
  {
   "cell_type": "code",
   "execution_count": null,
   "metadata": {},
   "outputs": [
    {
     "name": "stderr",
     "output_type": "stream",
     "text": [
      "KeySetCache: miss, regenerating ./tmp/sub_class/keys_client/17175690965724702848\n"
     ]
    }
   ],
   "source": [
    "from concrete.ml.deployment import FHEModelClient, FHEModelServer, FHEModelDev\n",
    "\n",
    "subclass_fhe_dir = './tmp/sub_class/fhe_client_server_files/'\n",
    "subclass_key_dir = \"./tmp/sub_class/keys_client\"\n",
    "\n",
    "subclass_dev = FHEModelDev(path_dir=subclass_fhe_dir, model=concrete_subclass_model)\n",
    "subclass_dev.save()\n",
    "\n",
    "subclass_client = FHEModelClient(path_dir=subclass_fhe_dir, key_dir=subclass_key_dir)\n",
    "subclass_serialized_evaluation_keys = subclass_client.get_serialized_evaluation_keys()\n",
    "\n",
    "# # Setup the server\n",
    "subclass_server = FHEModelServer(path_dir=subclass_fhe_dir)\n",
    "subclass_server.load()"
   ]
  },
  {
   "cell_type": "code",
   "execution_count": 18,
   "id": "154f90e3",
   "metadata": {},
   "outputs": [
    {
     "ename": "",
     "evalue": "",
     "output_type": "error",
     "traceback": [
      "\u001b[1;31mThe Kernel crashed while executing code in the current cell or a previous cell. \n",
      "\u001b[1;31mPlease review the code in the cell(s) to identify a possible cause of the failure. \n",
      "\u001b[1;31mClick <a href='https://aka.ms/vscodeJupyterKernelCrash'>here</a> for more info. \n",
      "\u001b[1;31mView Jupyter <a href='command:jupyter.viewOutput'>log</a> for further details."
     ]
    }
   ],
   "source": [
    "\n",
    "encrypted_disorder = disorder_client.quantize_encrypt_serialize(np.array([X_disorder_test.iloc[0].values]))\n",
    "encrypted_subclass = subclass_client.quantize_encrypt_serialize(np.array([X_subclass_test.iloc[0].values]))\n",
    "\n",
    "encrypted_result = disorder_server.run(encrypted_disorder, disorder_serialized_evaluation_keys)\n",
    "# encrypted_result = disorder_server.run(encrypted_disorder, disorder_serialized_evaluation_keys)\n",
    "\n",
    "# # # Client decrypts the result\n",
    "result = np.array(disorder_client.deserialize_decrypt_dequantize(encrypted_result)).argmax(axis=1)"
   ]
  },
  {
   "cell_type": "code",
   "execution_count": null,
   "id": "7e759dd4",
   "metadata": {},
   "outputs": [],
   "source": [
    "# np.array([X_disorder_test.iloc[0].values])\n",
    "print(f\"disorder: {X_disorder_test.iloc[0].shape}\")\n",
    "print(f\"subclass: {X_subclass_test.iloc[0]}\")"
   ]
  },
  {
   "cell_type": "code",
   "execution_count": null,
   "metadata": {},
   "outputs": [],
   "source": []
  }
 ],
 "metadata": {
  "kernelspec": {
   "display_name": "Python 3",
   "language": "python",
   "name": "python3"
  },
  "language_info": {
   "codemirror_mode": {
    "name": "ipython",
    "version": 3
   },
   "file_extension": ".py",
   "mimetype": "text/x-python",
   "name": "python",
   "nbconvert_exporter": "python",
   "pygments_lexer": "ipython3",
   "version": "3.11.10"
  }
 },
 "nbformat": 4,
 "nbformat_minor": 2
}
